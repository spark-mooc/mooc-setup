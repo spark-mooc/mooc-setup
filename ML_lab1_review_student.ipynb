{
 "cells": [
  {
   "cell_type": "markdown",
   "metadata": {},
   "source": [
    "![ML Logo](http://spark-mooc.github.io/web-assets/images/CS190.1x_Banner_300.png)\n",
    "# **Math and Python review and CTR data download**\n",
    "#### This notebook reviews vector and matrix math, the [NumPy](http://www.numpy.org/) Python package, and Python lambda expressions.  It also covers downloading the data required for Lab 4, where you will analyze website click-through rates.  Part 1 covers vector and matrix math, and you'll do a few exercises by hand.  In Part 2, you'll learn about NumPy and use `ndarray` objects to solve the math exercises.   Part 3 provides additional information about NumPy and how it relates to array usage in Spark's [MLlib](https://spark.apache.org/mllib/).  Part 4 provides an overview of lambda expressions, and you'll wrap up by downloading the dataset for Lab 4.\n",
    "#### To move through the notebook just run each of the cells.  You can run a cell by pressing \"shift-enter\", which will compute the current cell and advance to the next cell, or by clicking in a cell and pressing \"control-enter\", which will compute the current cell and remain in that cell.  You should move through the notebook from top to bottom and run all of the cells.  If you skip some cells, later cells might not work as expected.\n",
    "#### Note that there are several exercises within this notebook.  You will need to provide solutions for cells that start with: `# TODO: Replace <FILL IN> with appropriate code`.\n",
    " \n",
    "#### ** This notebook covers: **\n",
    "#### *Part 1:* Math review\n",
    "#### *Part 2:* NumPy\n",
    "#### *Part 3:* Additional NumPy and Spark linear algebra\n",
    "#### *Part 4:* Python lambda expressions\n",
    "#### *Part 5:* CTR data download"
   ]
  },
  {
   "cell_type": "code",
   "execution_count": null,
   "metadata": {
    "collapsed": false
   },
   "outputs": [],
   "source": [
    "labVersion = 'cs190_week1_v_1_1'"
   ]
  },
  {
   "cell_type": "markdown",
   "metadata": {},
   "source": [
    "### ** Part 1: Math review **"
   ]
  },
  {
   "cell_type": "markdown",
   "metadata": {},
   "source": [
    "#### ** (1a) Scalar multiplication: vectors **\n",
    "#### In this exercise, you will calculate the product of a scalar and a vector by hand and enter the result in the code cell below.  Scalar multiplication is straightforward.  The resulting vector equals the product of the scalar, which is a single value, and each item in the original vector.  In the example below, $ a $ is the scalar (constant) and $ \\mathbf{v} $ is the vector.  $$ a \\mathbf{v} = \\begin{bmatrix} a v_1 \\\\\\ a v_2 \\\\\\ \\vdots \\\\\\ a v_n \\end{bmatrix} $$\n",
    "#### Calculate the value of $ \\mathbf{x} $: $$ \\mathbf{x} = 3 \\begin{bmatrix} 1 \\\\\\ -2 \\\\\\ 0 \\end{bmatrix} $$\n",
    "#### Calculate the value of $ \\mathbf{y} $: $$ \\mathbf{y} = 2 \\begin{bmatrix} 2 \\\\\\ 4 \\\\\\ 8 \\end{bmatrix} $$"
   ]
  },
  {
   "cell_type": "code",
   "execution_count": null,
   "metadata": {
    "collapsed": false
   },
   "outputs": [],
   "source": [
    "# TODO: Replace <FILL IN> with appropriate code\n",
    "# Manually calculate your answer and represent the vector as a list of integers values.\n",
    "# For example, [2, 4, 8].\n",
    "x = <FILL IN>\n",
    "y = <FILL IN>"
   ]
  },
  {
   "cell_type": "code",
   "execution_count": null,
   "metadata": {
    "collapsed": false
   },
   "outputs": [],
   "source": [
    "# TEST Scalar multiplication: vectors (1a)\n",
    "# Import test library\n",
    "from test_helper import Test\n",
    "Test.assertEqualsHashed(x, 'e460f5b87531a2b60e0f55c31b2e49914f779981',\n",
    "                        'incorrect value for vector x')\n",
    "Test.assertEqualsHashed(y, 'e2d37ff11427dbac7f833a5a7039c0de5a740b1e',\n",
    "                        'incorrect value for vector y')"
   ]
  },
  {
   "cell_type": "markdown",
   "metadata": {},
   "source": [
    "#### ** (1b) Element-wise multiplication: vectors **\n",
    "#### In this exercise, you will calculate the element-wise multiplication of two vectors by hand and enter the result in the code cell below.  You'll later see that element-wise multiplication is the default method when two NumPy arrays are multiplied together.  Note we won't be performing element-wise multiplication in future labs, but we are introducing it here to distinguish it from other vector operators, and to because it is a common operations in NumPy, as we will discuss in Part (2b).\n",
    "#### The element-wise calculation is as follows: $$ \\mathbf{x} \\odot \\mathbf{y} =  \\begin{bmatrix} x_1 y_1 \\\\\\  x_2 y_2 \\\\\\ \\vdots \\\\\\ x_n y_n \\end{bmatrix} $$\n",
    "#### Calculate the value of $ \\mathbf{z} $: $$ \\mathbf{z} = \\begin{bmatrix} 1 \\\\\\  2 \\\\\\ 3 \\end{bmatrix} \\odot \\begin{bmatrix} 4 \\\\\\  5 \\\\\\ 6 \\end{bmatrix} $$"
   ]
  },
  {
   "cell_type": "code",
   "execution_count": null,
   "metadata": {
    "collapsed": false
   },
   "outputs": [],
   "source": [
    "# TODO: Replace <FILL IN> with appropriate code\n",
    "# Manually calculate your answer and represent the vector as a list of integers values.\n",
    "z = <FILL IN>"
   ]
  },
  {
   "cell_type": "code",
   "execution_count": null,
   "metadata": {
    "collapsed": false
   },
   "outputs": [],
   "source": [
    "# TEST Element-wise multiplication: vectors (1b)\n",
    "Test.assertEqualsHashed(z, '4b5fe28ee2d274d7e0378bf993e28400f66205c2',\n",
    "                        'incorrect value for vector z')"
   ]
  },
  {
   "cell_type": "markdown",
   "metadata": {},
   "source": [
    "#### ** (1c) Dot product **\n",
    "#### In this exercise, you will calculate the dot product of two vectors by hand and enter the result in the code cell below.  Note that the dot product is equivalent to performing element-wise multiplication and then summing the result.\n",
    "#### Below, you'll find the calculation for the dot product of two vectors, where each vector has length $ n $: $$ \\mathbf{w} \\cdot \\mathbf{x} = \\sum_{i=1}^n w_i x_i $$\n",
    "#### Note that you may also see $ \\mathbf{w} \\cdot \\mathbf{x} $ represented as $ \\mathbf{w}^\\top \\mathbf{x} $\n",
    "#### Calculate the value for $ c_1 $ based on the dot product of the following two vectors:\n",
    "#### $$ c_1 = \\begin{bmatrix} 1 \\\\\\ -3 \\end{bmatrix} \\cdot \\begin{bmatrix} 4 \\\\\\ 5 \\end{bmatrix}$$\n",
    "#### Calculate the value for $ c_2 $ based on the dot product of the following two vectors:\n",
    "#### $$ c_2 = \\begin{bmatrix} 3 \\\\\\ 4 \\\\\\ 5 \\end{bmatrix} \\cdot \\begin{bmatrix} 1 \\\\\\ 2 \\\\\\ 3 \\end{bmatrix}$$"
   ]
  },
  {
   "cell_type": "code",
   "execution_count": null,
   "metadata": {
    "collapsed": false
   },
   "outputs": [],
   "source": [
    "# TODO: Replace <FILL IN> with appropriate code\n",
    "# Manually calculate your answer and set the variables to their appropriate integer values.\n",
    "c1 = <FILL IN>\n",
    "c2 = <FILL IN>"
   ]
  },
  {
   "cell_type": "code",
   "execution_count": null,
   "metadata": {
    "collapsed": false
   },
   "outputs": [],
   "source": [
    "# TEST Dot product (1c)\n",
    "Test.assertEqualsHashed(c1, '8d7a9046b6a6e21d66409ad0849d6ab8aa51007c', 'incorrect value for c1')\n",
    "Test.assertEqualsHashed(c2, '887309d048beef83ad3eabf2a79a64a389ab1c9f', 'incorrect value for c2')"
   ]
  },
  {
   "cell_type": "markdown",
   "metadata": {},
   "source": [
    "#### ** (1d) Matrix multiplication **\n",
    "#### In this exercise, you will calculate the result of multiplying two matrices together by hand and enter the result in the code cell below.\n",
    "#### Below, you'll find the calculation for multiplying two matrices together.  Note that the number of columns for the first matrix and the number of rows for the second matrix have to be equal and are are represented by $ n $:\n",
    "#### $$ [\\mathbf{X} \\mathbf{Y}]_{i,j} = \\sum_{r=1}^n \\mathbf{X}_{i,r} \\mathbf{Y}_{r,j} $$\n",
    "#### First, you'll calculate the value for $ \\mathbf{X} $.\n",
    "#### $$ \\mathbf{X} = \\begin{bmatrix} 1 & 2 & 3 \\\\\\ 4 & 5 & 6 \\end{bmatrix} \\begin{bmatrix} 1 & 2 \\\\\\ 3 & 4 \\\\\\ 5 & 6 \\end{bmatrix} $$\n",
    "#### Next, you'll perform an outer product and calculate the value for $ \\mathbf{Y} $.  Note that outer product is just a special case of general matrix multiplication and follows the same rules as normal matrix multiplication.\n",
    "#### $$ \\mathbf{Y} = \\begin{bmatrix} 1 \\\\\\ 2 \\\\\\ 3 \\end{bmatrix} \\begin{bmatrix} 1 & 2 & 3 \\end{bmatrix} $$"
   ]
  },
  {
   "cell_type": "code",
   "execution_count": null,
   "metadata": {
    "collapsed": false
   },
   "outputs": [],
   "source": [
    "# TODO: Replace <FILL IN> with appropriate code\n",
    "# Represent matrices as lists within lists. For example, [[1,2,3], [4,5,6]] represents a matrix with\n",
    "# two rows and three columns. Use integer values.\n",
    "X = <FILL IN>\n",
    "Y = <FILL IN>"
   ]
  },
  {
   "cell_type": "code",
   "execution_count": null,
   "metadata": {
    "collapsed": false
   },
   "outputs": [],
   "source": [
    "# TEST Matrix multiplication (1d)\n",
    "Test.assertEqualsHashed(X, 'c2ada2598d8a499e5dfb66f27a24f444483cba13',\n",
    "                        'incorrect value for matrix X')\n",
    "Test.assertEqualsHashed(Y, 'f985daf651531b7d776523836f3068d4c12e4519',\n",
    "                        'incorrect value for matrix Y')"
   ]
  },
  {
   "cell_type": "markdown",
   "metadata": {},
   "source": [
    "### ** Part 2: NumPy **"
   ]
  },
  {
   "cell_type": "markdown",
   "metadata": {},
   "source": [
    "#### ** (2a) Scalar multiplication **\n",
    "#### [NumPy](http://docs.scipy.org/doc/numpy/reference/) is a Python library for working with arrays.  NumPy provides abstractions that make it easy to treat these underlying arrays as vectors and matrices.  The library is optimized to be fast and memory efficient, and we'll be using it throughout the course.  The building block for NumPy is the [ndarray](http://docs.scipy.org/doc/numpy/reference/generated/numpy.ndarray.html), which is a multidimensional array of fixed-size that contains elements of one type (e.g. array of floats).\n",
    "#### For this exercise, you'll create a `ndarray` consisting of the elements \\[1, 2, 3\\] and multiply this array by 5.  Use [np.array()](http://docs.scipy.org/doc/numpy/reference/generated/numpy.array.html) to create the array.  Note that you can pass a Python list into `np.array()`.  To perform scalar multiplication with an `ndarray` just use `*`.\n",
    "#### Note that if you create an array from a Python list of integers you will obtain a one-dimensional array, *which is equivalent to a vector for our purposes*."
   ]
  },
  {
   "cell_type": "code",
   "execution_count": null,
   "metadata": {
    "collapsed": false
   },
   "outputs": [],
   "source": [
    "# It is convention to import NumPy with the alias np\n",
    "import numpy as np"
   ]
  },
  {
   "cell_type": "code",
   "execution_count": null,
   "metadata": {
    "collapsed": false
   },
   "outputs": [],
   "source": [
    "# TODO: Replace <FILL IN> with appropriate code\n",
    "# Create a numpy array with the values 1, 2, 3\n",
    "simpleArray = <FILL IN>\n",
    "# Perform the scalar product of 5 and the numpy array\n",
    "timesFive = <FILL IN>\n",
    "print simpleArray\n",
    "print timesFive"
   ]
  },
  {
   "cell_type": "code",
   "execution_count": null,
   "metadata": {
    "collapsed": false
   },
   "outputs": [],
   "source": [
    "# TEST Scalar multiplication (2a)\n",
    "Test.assertTrue(np.all(timesFive == [5, 10, 15]), 'incorrect value for timesFive')"
   ]
  },
  {
   "cell_type": "markdown",
   "metadata": {},
   "source": [
    "#### ** (2b) Element-wise multiplication and dot product **\n",
    "#### NumPy arrays support both element-wise multiplication and dot product.  Element-wise multiplication occurs automatically when you use the `*` operator to multiply two `ndarray` objects of the same length.\n",
    "#### To perform the dot product you can use either [np.dot()](http://docs.scipy.org/doc/numpy/reference/generated/numpy.dot.html#numpy.dot) or [np.ndarray.dot()](http://docs.scipy.org/doc/numpy/reference/generated/numpy.ndarray.dot.html).  For example, if you had NumPy arrays `x` and `y`, you could compute their dot product four ways: `np.dot(x, y)`, `np.dot(y, x)`, `x.dot(y)`, or `y.dot(x)`.\n",
    "#### For this exercise, multiply the arrays `u` and `v` element-wise and compute their dot product."
   ]
  },
  {
   "cell_type": "code",
   "execution_count": null,
   "metadata": {
    "collapsed": false
   },
   "outputs": [],
   "source": [
    "# TODO: Replace <FILL IN> with appropriate code\n",
    "# Create a ndarray based on a range and step size.\n",
    "u = np.arange(0, 5, .5)\n",
    "v = np.arange(5, 10, .5)\n",
    "\n",
    "elementWise = <FILL IN>\n",
    "dotProduct = <FILL IN>\n",
    "print 'u: {0}'.format(u)\n",
    "print 'v: {0}'.format(v)\n",
    "print '\\nelementWise\\n{0}'.format(elementWise)\n",
    "print '\\ndotProduct\\n{0}'.format(dotProduct)"
   ]
  },
  {
   "cell_type": "code",
   "execution_count": null,
   "metadata": {
    "collapsed": false
   },
   "outputs": [],
   "source": [
    "# TEST Element-wise multiplication and dot product (2b)\n",
    "Test.assertTrue(np.all(elementWise == [ 0., 2.75, 6., 9.75, 14., 18.75, 24., 29.75, 36., 42.75]),\n",
    "                'incorrect value for elementWise')\n",
    "Test.assertEquals(dotProduct, 183.75, 'incorrect value for dotProduct')"
   ]
  },
  {
   "cell_type": "markdown",
   "metadata": {},
   "source": [
    "#### ** (2c) Matrix math **\n",
    "#### With NumPy it is very easy to perform matrix math.  You can use [np.matrix()](http://docs.scipy.org/doc/numpy/reference/generated/numpy.matrix.html) to generate a NumPy matrix.  Just pass a two-dimensional `ndarray` or a list of lists to the function.  You can perform matrix math on NumPy matrices using `*`.\n",
    "#### You can transpose a matrix by calling [numpy.matrix.transpose()](http://docs.scipy.org/doc/numpy/reference/generated/numpy.matrix.transpose.html) or by using `.T` on the matrix object (e.g. `myMatrix.T`).  Transposing a matrix produces a matrix where the new rows are the columns from the old matrix. For example: $$  \\begin{bmatrix} 1 & 2 & 3 \\\\\\ 4 & 5 & 6 \\end{bmatrix}^\\mathbf{\\top} = \\begin{bmatrix} 1 & 4 \\\\\\ 2 & 5 \\\\\\ 3 & 6 \\end{bmatrix} $$\n",
    " \n",
    "#### Inverting a matrix can be done using [numpy.linalg.inv()](http://docs.scipy.org/doc/numpy/reference/generated/numpy.linalg.inv.html).  Note that only square matrices can be inverted, and square matrices are not guaranteed to have an inverse.  If the inverse exists, then multiplying a matrix by its inverse will produce the identity matrix.  $ \\scriptsize ( \\mathbf{A}^{-1} \\mathbf{A} = \\mathbf{I_n} ) $  The identity matrix $ \\scriptsize \\mathbf{I_n} $ has ones along its diagonal and zero elsewhere. $$ \\mathbf{I_n} = \\begin{bmatrix} 1 & 0 & 0 & \\dots & 0 \\\\\\ 0 & 1 & 0 & \\dots & 0 \\\\\\ 0 & 0 & 1 & \\dots & 0 \\\\\\ \\vdots & \\vdots & \\vdots & \\ddots & \\vdots \\\\\\ 0 & 0 & 0 & \\dots & 1 \\end{bmatrix} $$\n",
    "#### For this exercise, multiply $ \\mathbf{A} $ times its transpose $ ( \\mathbf{A}^\\top ) $ and then calculate the inverse of the result $ (  [ \\mathbf{A} \\mathbf{A}^\\top ]^{-1}  ) $."
   ]
  },
  {
   "cell_type": "code",
   "execution_count": null,
   "metadata": {
    "collapsed": false
   },
   "outputs": [],
   "source": [
    "# TODO: Replace <FILL IN> with appropriate code\n",
    "from numpy.linalg import inv\n",
    "\n",
    "A = np.matrix([[1,2,3,4],[5,6,7,8]])\n",
    "print 'A:\\n{0}'.format(A)\n",
    "# Print A transpose\n",
    "print '\\nA transpose:\\n{0}'.format(A.T)\n",
    "\n",
    "# Multiply A by A transpose\n",
    "AAt = <FILL IN>\n",
    "print '\\nAAt:\\n{0}'.format(AAt)\n",
    "\n",
    "# Invert AAt with np.linalg.inv()\n",
    "AAtInv = <FILL IN>\n",
    "print '\\nAAtInv:\\n{0}'.format(AAtInv)\n",
    "\n",
    "# Show inverse times matrix equals identity\n",
    "# We round due to numerical precision\n",
    "print '\\nAAtInv * AAt:\\n{0}'.format((AAtInv * AAt).round(4))"
   ]
  },
  {
   "cell_type": "code",
   "execution_count": null,
   "metadata": {
    "collapsed": false
   },
   "outputs": [],
   "source": [
    "# TEST Matrix math (2c)\n",
    "Test.assertTrue(np.all(AAt == np.matrix([[30, 70], [70, 174]])), 'incorrect value for AAt')\n",
    "Test.assertTrue(np.allclose(AAtInv, np.matrix([[0.54375, -0.21875], [-0.21875, 0.09375]])),\n",
    "                'incorrect value for AAtInv')"
   ]
  },
  {
   "cell_type": "markdown",
   "metadata": {},
   "source": [
    "### ** Part 3: Additional NumPy and Spark linear algebra **"
   ]
  },
  {
   "cell_type": "markdown",
   "metadata": {},
   "source": [
    "#### ** (3a) Slices **\n",
    "#### You can select a subset of a one-dimensional NumPy `ndarray`'s elements by using slices.  These slices operate the same way as slices for Python lists.  For example, `[0, 1, 2, 3][:2]` returns the first two elements `[0, 1]`.  NumPy, additionally, has more sophisticated slicing that allows slicing across multiple dimensions; however, you'll only need to use basic slices in future labs for this course.\n",
    "#### Note that if no index is placed to the left of a `:`, it is equivalent to starting at 0, and hence `[0, 1, 2, 3][:2]` and `[0, 1, 2, 3][0:2]` yield the same result.  Similarly, if no index is placed to the right of a `:`, it is equivalent to slicing to the end of the object.  Also, you can use negative indices to index relative to the end of the object, so `[-2:]` would return the last two elements of the object.\n",
    "#### For this exercise, return the last 3 elements of the array `features`."
   ]
  },
  {
   "cell_type": "code",
   "execution_count": null,
   "metadata": {
    "collapsed": false
   },
   "outputs": [],
   "source": [
    "# TODO: Replace <FILL IN> with appropriate code\n",
    "features = np.array([1, 2, 3, 4])\n",
    "print 'features:\\n{0}'.format(features)\n",
    "\n",
    "# The last three elements of features\n",
    "lastThree = <FILL IN>\n",
    "\n",
    "print '\\nlastThree:\\n{0}'.format(lastThree)"
   ]
  },
  {
   "cell_type": "code",
   "execution_count": null,
   "metadata": {
    "collapsed": false
   },
   "outputs": [],
   "source": [
    "# TEST Slices (3a)\n",
    "Test.assertTrue(np.all(lastThree == [2, 3, 4]), 'incorrect value for lastThree')"
   ]
  },
  {
   "cell_type": "markdown",
   "metadata": {},
   "source": [
    "#### ** (3b) Combining `ndarray` objects **\n",
    "#### NumPy provides many functions for creating new arrays from existing arrays.  We'll explore two functions: [np.hstack()](http://docs.scipy.org/doc/numpy/reference/generated/numpy.hstack.html), which allows you to combine arrays column-wise, and [np.vstack()](http://docs.scipy.org/doc/numpy/reference/generated/numpy.vstack.html), which allows you to combine arrays row-wise.  Note that both `np.hstack()` and `np.vstack()` take in a tuple of arrays as their first argument.  To horizontally combine three arrays `a`, `b`, and `c`, you would run `np.hstack((a, b, c))`.\n",
    "#### If we had two arrays: `a = [1, 2, 3, 4]` and `b = [5, 6, 7, 8]`, we could use `np.vstack((a, b))` to produce the two-dimensional array: $$  \\begin{bmatrix} 1 & 2 & 3 & 4 \\\\\\ 5 & 6 & 7 & 8 \\end{bmatrix} $$\n",
    "#### For this exercise, you'll combine the `zeros` and `ones` arrays both horizontally (column-wise) and vertically (row-wise).\n",
    "#### Note that the result of stacking two arrays is an `ndarray`.  If you need the result to be a matrix, you can call `np.matrix()` on the result, which will return a NumPy matrix."
   ]
  },
  {
   "cell_type": "code",
   "execution_count": null,
   "metadata": {
    "collapsed": false
   },
   "outputs": [],
   "source": [
    "# TODO: Replace <FILL IN> with appropriate code\n",
    "zeros = np.zeros(8)\n",
    "ones = np.ones(8)\n",
    "print 'zeros:\\n{0}'.format(zeros)\n",
    "print '\\nones:\\n{0}'.format(ones)\n",
    "\n",
    "zerosThenOnes = <FILL IN>   # A 1 by 16 array\n",
    "zerosAboveOnes = <FILL IN>  # A 2 by 8 array\n",
    "\n",
    "print '\\nzerosThenOnes:\\n{0}'.format(zerosThenOnes)\n",
    "print '\\nzerosAboveOnes:\\n{0}'.format(zerosAboveOnes)"
   ]
  },
  {
   "cell_type": "code",
   "execution_count": null,
   "metadata": {
    "collapsed": false
   },
   "outputs": [],
   "source": [
    "# TEST Combining ndarray objects (3b)\n",
    "Test.assertTrue(np.all(zerosThenOnes == [0,0,0,0,0,0,0,0,1,1,1,1,1,1,1,1]),\n",
    "                'incorrect value for zerosThenOnes')\n",
    "Test.assertTrue(np.all(zerosAboveOnes == [[0,0,0,0,0,0,0,0],[1,1,1,1,1,1,1,1]]),\n",
    "                'incorrect value for zerosAboveOnes')"
   ]
  },
  {
   "cell_type": "markdown",
   "metadata": {},
   "source": [
    "#### ** (3c) PySpark's DenseVector **\n",
    "#### PySpark provides a [DenseVector](https://spark.apache.org/docs/latest/api/python/pyspark.mllib.html#pyspark.mllib.linalg.DenseVector) class within the module [pyspark.mllib.linalg](https://spark.apache.org/docs/latest/api/python/pyspark.mllib.html#module-pyspark.mllib.linalg).  `DenseVector` is used to store arrays of values for use in PySpark.  `DenseVector` actually stores values in a NumPy array and delegates calculations to that object.  You can create a new `DenseVector` using `DenseVector()` and passing in an NumPy array or a Python list.\n",
    "#### `DenseVector` implements several functions.  The only function needed for this course is `DenseVector.dot()`, which operates just like `np.ndarray.dot()`.\n",
    "#### Note that `DenseVector` stores all values as `np.float64`, so even if you pass in an NumPy array of integers, the resulting `DenseVector` will contain floating-point numbers. Also, `DenseVector` objects exist locally and are not inherently distributed.  `DenseVector` objects can be used in the distributed setting by either passing functions that contain them to resilient distributed dataset (RDD) transformations or by distributing them directly as RDDs.  You'll learn more about RDDs in the spark tutorial.\n",
    "#### For this exercise, create a `DenseVector` consisting of the values `[3.0, 4.0, 5.0]` and compute the dot product of this vector with `numpyVector`."
   ]
  },
  {
   "cell_type": "code",
   "execution_count": null,
   "metadata": {
    "collapsed": false
   },
   "outputs": [],
   "source": [
    "from pyspark.mllib.linalg import DenseVector"
   ]
  },
  {
   "cell_type": "code",
   "execution_count": null,
   "metadata": {
    "collapsed": false
   },
   "outputs": [],
   "source": [
    "# TODO: Replace <FILL IN> with appropriate code\n",
    "numpyVector = np.array([-3, -4, 5])\n",
    "print '\\nnumpyVector:\\n{0}'.format(numpyVector)\n",
    "\n",
    "# Create a DenseVector consisting of the values [3.0, 4.0, 5.0]\n",
    "myDenseVector = <FILL IN>\n",
    "# Calculate the dot product between the two vectors.\n",
    "denseDotProduct = <FILL IN>\n",
    "\n",
    "print 'myDenseVector:\\n{0}'.format(myDenseVector)\n",
    "print '\\ndenseDotProduct:\\n{0}'.format(denseDotProduct)"
   ]
  },
  {
   "cell_type": "code",
   "execution_count": null,
   "metadata": {
    "collapsed": false
   },
   "outputs": [],
   "source": [
    "# TEST PySpark's DenseVector (3c)\n",
    "Test.assertTrue(isinstance(myDenseVector, DenseVector), 'myDenseVector is not a DenseVector')\n",
    "Test.assertTrue(np.allclose(myDenseVector, np.array([3., 4., 5.])),\n",
    "                'incorrect value for myDenseVector')\n",
    "Test.assertTrue(np.allclose(denseDotProduct, 0.0), 'incorrect value for denseDotProduct')"
   ]
  },
  {
   "cell_type": "markdown",
   "metadata": {},
   "source": [
    "### ** Part 4: Python lambda expressions **"
   ]
  },
  {
   "cell_type": "markdown",
   "metadata": {},
   "source": [
    "#### ** (4a) Lambda is an anonymous function **\n",
    "#### We can use a lambda expression to create a function.  To do this, you type `lambda` followed by the names of the function's parameters separated by commas, followed by a `:`, and then the expression statement that the function will evaluate.  For example, `lambda x, y: x + y` is an anonymous function that computes the sum of its two inputs.\n",
    "#### Lambda expressions return a function when evaluated.  The function is not bound to any variable, which is why lambdas are associated with anonymous functions.  However, it is possible to assign the function to a variable.  Lambda expressions are particularly useful when you need to pass a simple function into another function.  In that case, the lambda expression generates a function that is bound to the parameter being passed into the function.\n",
    "#### Below, we'll see an example of how we can bind the function returned by a lambda expression to a variable named `addSLambda`.  From this example, we can see that `lambda` provides a shortcut for creating a simple function.  Note that the behavior of the function created using `def` and the function created using `lambda` is equivalent.  Both functions have the same type and return the same results.  The only differences are the names and the way they were created.\n",
    "#### For this exercise, first run the two cells below to compare a function created using `def` with a corresponding anonymous function.  Next, write your own lambda expression that creates a function that multiplies its input (a single parameter) by 10.\n",
    "#### Here are some additional references that explain lambdas: [Lambda Functions](http://www.secnetix.de/olli/Python/lambda_functions.hawk), [Lambda Tutorial](https://pythonconquerstheuniverse.wordpress.com/2011/08/29/lambda_tutorial/), and [Python Functions](http://www.bogotobogo.com/python/python_functions_lambda.php)."
   ]
  },
  {
   "cell_type": "code",
   "execution_count": null,
   "metadata": {
    "collapsed": false
   },
   "outputs": [],
   "source": [
    "# Example function\n",
    "def addS(x):\n",
    "    return x + 's'\n",
    "print type(addS)\n",
    "print addS\n",
    "print addS('cat')"
   ]
  },
  {
   "cell_type": "code",
   "execution_count": null,
   "metadata": {
    "collapsed": false
   },
   "outputs": [],
   "source": [
    "# As a lambda\n",
    "addSLambda = lambda x: x + 's'\n",
    "print type(addSLambda)\n",
    "print addSLambda\n",
    "print addSLambda('cat')"
   ]
  },
  {
   "cell_type": "code",
   "execution_count": null,
   "metadata": {
    "collapsed": false
   },
   "outputs": [],
   "source": [
    "# TODO: Replace <FILL IN> with appropriate code\n",
    "# Recall that: \"lambda x, y: x + y\" creates a function that adds together two numbers\n",
    "multiplyByTen = lambda x: <FILL IN>\n",
    "print multiplyByTen(5)\n",
    "\n",
    "# Note that the function still shows its name as <lambda>\n",
    "print '\\n', multiplyByTen"
   ]
  },
  {
   "cell_type": "code",
   "execution_count": null,
   "metadata": {
    "collapsed": false
   },
   "outputs": [],
   "source": [
    "# TEST Python lambda expressions (4a)\n",
    "Test.assertEquals(multiplyByTen(10), 100, 'incorrect definition for multiplyByTen')"
   ]
  },
  {
   "cell_type": "markdown",
   "metadata": {},
   "source": [
    "#### ** (4b) `lambda` fewer steps than `def` **\n",
    "#### `lambda` generates a function and returns it, while `def` generates a function and assigns it to a name.  The function returned by `lambda` also automatically returns the value of its expression statement, which reduces the amount of code that needs to be written.\n",
    "#### For this exercise, recreate the `def` behavior using `lambda`.  Note that since a lambda expression returns a function, it can be used anywhere an object is expected. For example, you can create a list of functions where each function in the list was generated by a lambda expression."
   ]
  },
  {
   "cell_type": "code",
   "execution_count": null,
   "metadata": {
    "collapsed": false
   },
   "outputs": [],
   "source": [
    "# Code using def that we will recreate with lambdas\n",
    "def plus(x, y):\n",
    "    return x + y\n",
    "\n",
    "def minus(x, y):\n",
    "    return x - y\n",
    "\n",
    "functions = [plus, minus]\n",
    "print functions[0](4, 5)\n",
    "print functions[1](4, 5)"
   ]
  },
  {
   "cell_type": "code",
   "execution_count": null,
   "metadata": {
    "collapsed": false
   },
   "outputs": [],
   "source": [
    "# TODO: Replace <FILL IN> with appropriate code\n",
    "# The first function should add two values, while the second function should subtract the second\n",
    "# value from the first value.\n",
    "lambdaFunctions = [lambda <FILL IN> ,  lambda <FILL IN>]\n",
    "print lambdaFunctions[0](4, 5)\n",
    "print lambdaFunctions[1](4, 5)"
   ]
  },
  {
   "cell_type": "code",
   "execution_count": null,
   "metadata": {
    "collapsed": false
   },
   "outputs": [],
   "source": [
    "# TEST lambda fewer steps than def (4b)\n",
    "Test.assertEquals(lambdaFunctions[0](10, 10), 20, 'incorrect first lambdaFunction')\n",
    "Test.assertEquals(lambdaFunctions[1](10, 10), 0, 'incorrect second lambdaFunction')"
   ]
  },
  {
   "cell_type": "markdown",
   "metadata": {},
   "source": [
    "#### ** (4c) Lambda expression arguments **\n",
    "#### Lambda expressions can be used to generate functions that take in zero or more parameters.  The syntax for `lambda` allows for multiple ways to define the same function.  For example, we might want to create a function that takes in a single parameter, where the parameter is a tuple consisting of two values, and the function adds the two values together.  The syntax could be either: `lambda x: x[0] + x[1]` or `lambda (x0, x1): x0 + x1`.  If we called either function on the tuple `(3, 4)` it would return `7`.  Note that the second `lambda` relies on the tuple `(3, 4)` being unpacked automatically, which means that `x0` is assigned the value `3` and `x1` is assigned the value `4`.\n",
    "#### As an other example, consider the following parameter lambda expressions: `lambda x, y: (x[0] + y[0], x[1] + y[1])` and `lambda (x0, x1), (y0, y1): (x0 + x1, y0 + y1)`.  The result of applying either of these functions to tuples  `(1, 2)` and `(3, 4)` would be the tuple `(4, 6)`.\n",
    "#### For this exercise: you'll create one-parameter functions `swap1` and `swap2` that swap the order of a tuple; a one-parameter function `swapOrder` that takes in a tuple with three values and changes the order to: second element, third element, first element; and finally, a three-parameter function `sumThree` that takes in three tuples, each with two values, and returns a tuple containing two values: the sum of the first element of each tuple and the sum of second element of each tuple."
   ]
  },
  {
   "cell_type": "code",
   "execution_count": null,
   "metadata": {
    "collapsed": false
   },
   "outputs": [],
   "source": [
    "# Examples.  Note that the spacing has been modified to distinguish parameters from tuples.\n",
    "\n",
    "# One-parameter function\n",
    "a1 = lambda x: x[0] + x[1]\n",
    "a2 = lambda (x0, x1): x0 + x1\n",
    "print 'a1( (3,4) ) = {0}'.format( a1( (3,4) ) )\n",
    "print 'a2( (3,4) ) = {0}'.format( a2( (3,4) ) )\n",
    "\n",
    "# Two-parameter function\n",
    "b1 = lambda x, y: (x[0] + y[0], x[1] + y[1])\n",
    "b2 = lambda (x0, x1), (y0, y1): (x0 + x1, y0 + y1)\n",
    "print '\\nb1( (1,2), (3,4) ) = {0}'.format( b1( (1,2), (3,4) ) )\n",
    "print 'b2( (1,2), (3,4) ) = {0}'.format( b1( (1,2), (3,4) ) )"
   ]
  },
  {
   "cell_type": "code",
   "execution_count": null,
   "metadata": {
    "collapsed": false
   },
   "outputs": [],
   "source": [
    "# TODO: Replace <FILL IN> with appropriate code\n",
    "# Use both syntaxes to create a function that takes in a tuple of two values and swaps their order\n",
    "# E.g. (1, 2) => (2, 1)\n",
    "swap1 = lambda x: <FILL IN>\n",
    "swap2 = lambda (x0, x1): <FILL IN>\n",
    "print 'swap1((1, 2)) = {0}'.format(swap1((1, 2)))\n",
    "print 'swap2((1, 2)) = {0}'.format(swap2((1, 2)))\n",
    "\n",
    "# Using either syntax, create a function that takes in a tuple with three values and returns a tuple\n",
    "# of (2nd value, 3rd value, 1st value).  E.g. (1, 2, 3) => (2, 3, 1)\n",
    "swapOrder = <FILL IN>\n",
    "print 'swapOrder((1, 2, 3)) = {0}'.format(swapOrder((1, 2, 3)))\n",
    "\n",
    "# Using either syntax, create a function that takes in three tuples each with two values.  The\n",
    "# function should return a tuple with the values in the first position summed and the values in the\n",
    "# second position summed. E.g. (1, 2), (3, 4), (5, 6) => (1 + 3 + 5, 2 + 4 + 6) => (9, 12)\n",
    "sumThree = <FILL IN>\n",
    "print 'sumThree((1, 2), (3, 4), (5, 6)) = {0}'.format(sumThree((1, 2), (3, 4), (5, 6)))"
   ]
  },
  {
   "cell_type": "code",
   "execution_count": null,
   "metadata": {
    "collapsed": false
   },
   "outputs": [],
   "source": [
    "# TEST Lambda expression arguments (4c)\n",
    "Test.assertEquals(swap1((1, 2)), (2, 1), 'incorrect definition for swap1')\n",
    "Test.assertEquals(swap2((1, 2)), (2, 1), 'incorrect definition for swap2')\n",
    "Test.assertEquals(swapOrder((1, 2, 3)), (2, 3, 1), 'incorrect definition fo swapOrder')\n",
    "Test.assertEquals(sumThree((1, 2), (3, 4), (5, 6)), (9, 12), 'incorrect definition for sumThree')"
   ]
  },
  {
   "cell_type": "markdown",
   "metadata": {},
   "source": [
    "#### ** (4d) Restrictions on lambda expressions **\n",
    "#### [Lambda expressions](https://docs.python.org/2/reference/expressions.html#lambda) consist of a single [expression statement](https://docs.python.org/2/reference/simple_stmts.html#expression-statements) and cannot contain other [simple statements](https://docs.python.org/2/reference/simple_stmts.html).  In short, this means that the lambda expression needs to evaluate to a value and exist on a single logical line.  If more complex logic is necessary, use `def` in place of `lambda`.\n",
    "#### Expression statements evaluate to a value (sometimes that value is None).  Lambda expressions automatically return the value of their expression statement.  In fact, a `return` statement in a `lambda` would raise a `SyntaxError`.\n",
    "####  The following Python keywords refer to simple statements that cannot be used in a lambda expression: `assert`, `pass`, `del`, `print`, `return`, `yield`, `raise`, `break`, `continue`, `import`, `global`, and `exec`.  Also, note that assignment statements (`=`) and augmented assignment statements (e.g. `+=`) cannot be used either."
   ]
  },
  {
   "cell_type": "code",
   "execution_count": null,
   "metadata": {
    "collapsed": false
   },
   "outputs": [],
   "source": [
    "# Just run this code\n",
    "# This code will fail with a syntax error, as we can't use print in a lambda expression\n",
    "import traceback\n",
    "try:\n",
    "    exec \"lambda x: print x\"\n",
    "except:\n",
    "    traceback.print_exc()"
   ]
  },
  {
   "cell_type": "markdown",
   "metadata": {},
   "source": [
    "#### ** (4e) Functional programming **\n",
    "#### The `lambda` examples we have shown so far have been somewhat contrived.  This is because they were created to demonstrate the differences and similarities between `lambda` and `def`.  An excellent use case for lambda expressions is functional programming.  In functional programming, you will often pass functions to other functions as parameters, and `lambda` can be used to reduce the amount of code necessary and to make the code more readable.\n",
    "#### Some commonly used functions in functional programming are map, filter, and reduce.  Map transforms a series of elements by applying a function individually to each element in the series.  It then returns the series of transformed elements.  Filter also applies a function individually to each element in a series; however, with filter, this function evaluates to `True` or `False` and only elements that evaluate to `True` are retained.  Finally, reduce operates on pairs of elements in a series.  It applies a function that takes in two values and returns a single value.  Using this function, reduce is able to, iteratively, \"reduce\" a series to a single value.\n",
    "####  For this exercise, you'll create three simple `lambda` functions, one each for use in map, filter, and reduce.  The map `lambda` will multiply its input by 5, the filter `lambda` will evaluate to `True` for even numbers, and the reduce `lambda` will add two numbers.  Note that we have created a class called `FunctionalWrapper` so that the syntax for this exercise matches the syntax you'll see in PySpark.\n",
    "#### Note that map requires a one parameter function that returns a new value, filter requires a one parameter function that returns `True` or `False`, and reduce requires a two parameter function that combines the two parameters and returns a new value."
   ]
  },
  {
   "cell_type": "code",
   "execution_count": null,
   "metadata": {
    "collapsed": false
   },
   "outputs": [],
   "source": [
    "# Create a class to give our examples the same syntax as PySpark\n",
    "class FunctionalWrapper(object):\n",
    "    def __init__(self, data):\n",
    "        self.data = data\n",
    "    def map(self, function):\n",
    "        \"\"\"Call `map` on the items in `data` using the provided `function`\"\"\"\n",
    "        return FunctionalWrapper(map(function, self.data))\n",
    "    def reduce(self, function):\n",
    "        \"\"\"Call `reduce` on the items in `data` using the provided `function`\"\"\"\n",
    "        return reduce(function, self.data)\n",
    "    def filter(self, function):\n",
    "        \"\"\"Call `filter` on the items in `data` using the provided `function`\"\"\"\n",
    "        return FunctionalWrapper(filter(function, self.data))\n",
    "    def __eq__(self, other):\n",
    "        return (isinstance(other, self.__class__)\n",
    "            and self.__dict__ == other.__dict__)\n",
    "    def __getattr__(self, name):  return getattr(self.data, name)\n",
    "    def __getitem__(self, k):  return self.data.__getitem__(k)\n",
    "    def __repr__(self):  return 'FunctionalWrapper({0})'.format(repr(self.data))\n",
    "    def __str__(self):  return 'FunctionalWrapper({0})'.format(str(self.data))"
   ]
  },
  {
   "cell_type": "code",
   "execution_count": null,
   "metadata": {
    "collapsed": false
   },
   "outputs": [],
   "source": [
    "# Map example\n",
    "\n",
    "# Create some data\n",
    "mapData = FunctionalWrapper(range(5))\n",
    "\n",
    "# Define a function to be applied to each element\n",
    "f = lambda x: x + 3\n",
    "\n",
    "# Imperative programming: loop through and create a new object by applying f\n",
    "mapResult = FunctionalWrapper([])  # Initialize the result\n",
    "for element in mapData:\n",
    "    mapResult.append(f(element))  # Apply f and save the new value\n",
    "print 'Result from for loop: {0}'.format(mapResult)\n",
    "\n",
    "# Functional programming: use map rather than a for loop\n",
    "print 'Result from map call: {0}'.format(mapData.map(f))\n",
    "\n",
    "# Note that the results are the same but that the map function abstracts away the implementation\n",
    "# and requires less code"
   ]
  },
  {
   "cell_type": "code",
   "execution_count": null,
   "metadata": {
    "collapsed": false
   },
   "outputs": [],
   "source": [
    "# TODO: Replace <FILL IN> with appropriate code\n",
    "dataset = FunctionalWrapper(range(10))\n",
    "\n",
    "# Multiply each element by 5\n",
    "mapResult = dataset.map(<FILL IN>)\n",
    "# Keep the even elements\n",
    "# Note that \"x % 2\" evaluates to the remainder of x divided by 2\n",
    "filterResult = dataset.filter(<FILL IN>)\n",
    "# Sum the elements\n",
    "reduceResult = dataset.reduce(<FILL IN>)\n",
    "\n",
    "print 'mapResult: {0}'.format(mapResult)\n",
    "print '\\nfilterResult: {0}'.format(filterResult)\n",
    "print '\\nreduceResult: {0}'.format(reduceResult)"
   ]
  },
  {
   "cell_type": "code",
   "execution_count": null,
   "metadata": {
    "collapsed": false
   },
   "outputs": [],
   "source": [
    "# TEST Functional programming (4e)\n",
    "Test.assertEquals(mapResult, FunctionalWrapper([0, 5, 10, 15, 20, 25, 30, 35, 40, 45]),\n",
    "                  'incorrect value for mapResult')\n",
    "Test.assertEquals(filterResult, FunctionalWrapper([0, 2, 4, 6, 8]),\n",
    "                  'incorrect value for filterResult')\n",
    "Test.assertEquals(reduceResult, 45, 'incorrect value for reduceResult')"
   ]
  },
  {
   "cell_type": "markdown",
   "metadata": {},
   "source": [
    "#### ** (4f) Composability **\n",
    "#### Since our methods for map and filter in the `FunctionalWrapper` class return `FunctionalWrapper` objects, we can compose (or chain) together our function calls.  For example, `dataset.map(f1).filter(f2).reduce(f3)`, where `f1`, `f2`, and `f3` are functions or lambda expressions, first applies a map operation to `dataset`, then filters the result from map, and finally reduces the result from the first two operations.\n",
    "####  Note that when we compose (chain) an operation, the output of one operation becomes the input for the next operation, and operations are applied from left to right.  It's likely you've seen chaining used with Python strings.  For example, `'Split this'.lower().split(' ')` first returns a new string object `'split this'` and then `split(' ')` is called on that string to produce `['split', 'this']`.\n",
    "#### For this exercise, reuse your lambda expressions from (4e) but apply them to `dataset` in the sequence: map, filter, reduce.  Note that since we are composing the operations our result will be different than in (4e).  Also, we can write our operations on separate lines to improve readability."
   ]
  },
  {
   "cell_type": "code",
   "execution_count": null,
   "metadata": {
    "collapsed": false
   },
   "outputs": [],
   "source": [
    "# Example of a mult-line expression statement\n",
    "# Note that placing parentheses around the expression allow it to exist on multiple lines without\n",
    "# causing a syntax error.\n",
    "(dataset\n",
    " .map(lambda x: x + 2)\n",
    " .reduce(lambda x, y: x * y))"
   ]
  },
  {
   "cell_type": "code",
   "execution_count": null,
   "metadata": {
    "collapsed": false
   },
   "outputs": [],
   "source": [
    "# TODO: Replace <FILL IN> with appropriate code\n",
    "# Multiply the elements in dataset by five, keep just the even values, and sum those values\n",
    "finalSum = <FILL IN>\n",
    "print finalSum"
   ]
  },
  {
   "cell_type": "code",
   "execution_count": null,
   "metadata": {
    "collapsed": false
   },
   "outputs": [],
   "source": [
    "# TEST Composability (4f)\n",
    "Test.assertEquals(finalSum, 100, 'incorrect value for finalSum')"
   ]
  },
  {
   "cell_type": "markdown",
   "metadata": {},
   "source": [
    "### ** Part 5: CTR data download **"
   ]
  },
  {
   "cell_type": "markdown",
   "metadata": {},
   "source": [
    "#### Lab four will explore website click-through data provided by Criteo.  To obtain the data, you must first accept Criteo's data sharing agreement.  Below is the agreement from Criteo.  After you accept the agreement, you can obtain the download URL by right-clicking on the \"Download Sample\" button and clicking \"Copy link address\" or \"Copy Link Location\", depending on your browser.  Paste the URL into the `# TODO` cell below.  The file is 8.4 MB compressed.  The script below will download the file to the virtual machine (VM) and then extract the data.\n",
    "#### If running the cell below does not render a webpage, open the [Criteo agreement](http://labs.criteo.com/downloads/2014-kaggle-display-advertising-challenge-dataset/) in a separate browser tab. After you accept the agreement, you can obtain the download URL by right-clicking on the \"Download Sample\" button and clicking \"Copy link address\" or \"Copy Link Location\", depending on your browser.  Paste the URL into the `# TODO` cell below.\n",
    "#### Note that the download could take a few minutes, depending upon your connection speed."
   ]
  },
  {
   "cell_type": "code",
   "execution_count": null,
   "metadata": {
    "collapsed": false
   },
   "outputs": [],
   "source": [
    "# Run this code to view Criteo's agreement\n",
    "# Note that some ad blocker software will prevent this IFrame from loading.\n",
    "# If this happens, open the webpage in a separate tab and follow the instructions from above.\n",
    "from IPython.lib.display import IFrame\n",
    "\n",
    "IFrame(\"http://labs.criteo.com/downloads/2014-kaggle-display-advertising-challenge-dataset/\",\n",
    "       600, 350)"
   ]
  },
  {
   "cell_type": "code",
   "execution_count": null,
   "metadata": {
    "collapsed": false
   },
   "outputs": [],
   "source": [
    "# TODO: Replace <FILL IN> with appropriate code\n",
    "# Just replace <FILL IN> with the url for dac_sample.tar.gz\n",
    "import glob\n",
    "import os.path\n",
    "import tarfile\n",
    "import urllib\n",
    "import urlparse\n",
    "\n",
    "# Paste url, url should end with: dac_sample.tar.gz\n",
    "url = '<FILL IN>'\n",
    "\n",
    "url = url.strip()\n",
    "baseDir = os.path.join('data')\n",
    "inputPath = os.path.join('cs190', 'dac_sample.txt')\n",
    "fileName = os.path.join(baseDir, inputPath)\n",
    "inputDir = os.path.split(fileName)[0]\n",
    "\n",
    "def extractTar(check = False):\n",
    "    # Find the zipped archive and extract the dataset\n",
    "    tars = glob.glob('dac_sample*.tar.gz*')\n",
    "    if check and len(tars) == 0:\n",
    "      return False\n",
    "\n",
    "    if len(tars) > 0:\n",
    "        try:\n",
    "            tarFile = tarfile.open(tars[0])\n",
    "        except tarfile.ReadError:\n",
    "            if not check:\n",
    "                print 'Unable to open tar.gz file.  Check your URL.'\n",
    "            return False\n",
    "\n",
    "        tarFile.extract('dac_sample.txt', path=inputDir)\n",
    "        print 'Successfully extracted: dac_sample.txt'\n",
    "        return True\n",
    "    else:\n",
    "        print 'You need to retry the download with the correct url.'\n",
    "        print ('Alternatively, you can upload the dac_sample.tar.gz file to your Jupyter root ' +\n",
    "              'directory')\n",
    "        return False\n",
    "\n",
    "\n",
    "if os.path.isfile(fileName):\n",
    "    print 'File is already available. Nothing to do.'\n",
    "elif extractTar(check = True):\n",
    "    print 'tar.gz file was already available.'\n",
    "elif not url.endswith('dac_sample.tar.gz'):\n",
    "    print 'Check your download url.  Are you downloading the Sample dataset?'\n",
    "else:\n",
    "    # Download the file and store it in the same directory as this notebook\n",
    "    try:\n",
    "        urllib.urlretrieve(url, os.path.basename(urlparse.urlsplit(url).path))\n",
    "    except IOError:\n",
    "        print 'Unable to download and store: {0}'.format(url)\n",
    "\n",
    "    extractTar()"
   ]
  },
  {
   "cell_type": "code",
   "execution_count": null,
   "metadata": {
    "collapsed": false
   },
   "outputs": [],
   "source": [
    "import os.path\n",
    "baseDir = os.path.join('data')\n",
    "inputPath = os.path.join('cs190', 'dac_sample.txt')\n",
    "fileName = os.path.join(baseDir, inputPath)\n",
    "\n",
    "if os.path.isfile(fileName):\n",
    "    rawData = (sc\n",
    "               .textFile(fileName, 2)\n",
    "               .map(lambda x: x.replace('\\t', ',')))  # work with either ',' or '\\t' separated data\n",
    "\n",
    "print rawData.take(1)\n",
    "rawDataCount = rawData.count()\n",
    "print rawDataCount\n",
    "# This line tests that the correct number of observations have been loaded\n",
    "assert rawDataCount == 100000, 'incorrect count for rawData'\n",
    "if rawDataCount == 100000:\n",
    "    print 'Criteo data loaded successfully!'"
   ]
  }
 ],
 "metadata": {},
 "nbformat": 4,
 "nbformat_minor": 0
}
